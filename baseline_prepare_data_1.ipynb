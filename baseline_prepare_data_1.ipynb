{
 "cells": [
  {
   "cell_type": "markdown",
   "id": "91fa35fa",
   "metadata": {},
   "source": [
    "# Загрузка данных"
   ]
  },
  {
   "cell_type": "code",
   "execution_count": null,
   "id": "62266185",
   "metadata": {},
   "outputs": [],
   "source": [
    "%cd baseline\n",
    "!wget https://storage.yandexcloud.net/ds-ods/files/files/a49ec917/train.zip\n",
    "!wget https://storage.yandexcloud.net/ds-ods/files/files/c42aab3c/test.zip\n",
    "!wget https://storage.yandexcloud.net/ds-ods/files/files/2d9be07b/train.csv\n",
    "\n",
    "!unzip train.zip\n",
    "!unzip test.zip"
   ]
  },
  {
   "cell_type": "markdown",
   "id": "0ab2d957",
   "metadata": {},
   "source": [
    "# Подготовка данных для обучения"
   ]
  },
  {
   "cell_type": "code",
   "execution_count": null,
   "id": "ba8275f5-03cd-4ca4-9b6a-186e6fe71d8b",
   "metadata": {},
   "outputs": [],
   "source": [
    "import pandas as pd\n",
    "from sklearn.model_selection import train_test_split\n",
    "import numpy as np"
   ]
  },
  {
   "cell_type": "code",
   "execution_count": null,
   "id": "e99b136b-1f42-4d13-a8ef-3c577707d315",
   "metadata": {},
   "outputs": [],
   "source": [
    "train_df = pd.read_csv(\"train.csv\")\n",
    "train_df.head()"
   ]
  },
  {
   "cell_type": "code",
   "execution_count": null,
   "id": "3e56ca67-10b7-4f9a-9e37-b7c8ca7987cf",
   "metadata": {},
   "outputs": [],
   "source": [
    "labels = train_df.label.unique()\n",
    "labels_train, labels_val = train_test_split(labels, test_size=0.33, random_state=42, shuffle=True)"
   ]
  },
  {
   "cell_type": "code",
   "execution_count": null,
   "id": "78535e7e-8bb2-40e9-89de-f1ef57624cde",
   "metadata": {},
   "outputs": [],
   "source": [
    "# Добавляем путь к файлам и определяем split\n",
    "train_df[\"path\"] = \"train/\" + train_df[\"file_name\"]\n",
    "train_df[\"split\"] = np.where(train_df[\"label\"].isin(labels_train), \"train\", \"validation\")\n",
    "\n",
    "# Инициализируем и заполняем столбцы is_query и is_gallery\n",
    "train_df[[\"is_query\", \"is_gallery\"]] = np.nan\n",
    "mask_validation = train_df[\"split\"] == \"validation\"\n",
    "train_df.loc[mask_validation, [\"is_query\", \"is_gallery\"]] = 1\n",
    "train_df.head()"
   ]
  },
  {
   "cell_type": "code",
   "execution_count": null,
   "id": "277e28d9-be3d-4c32-b507-e1b051bb517c",
   "metadata": {},
   "outputs": [],
   "source": [
    "train_df.to_csv(\"train_tiger.csv\", index=False)"
   ]
  }
 ],
 "metadata": {
  "kernelspec": {
   "display_name": "Python [conda env:.mlspace-test_nto]",
   "language": "python",
   "name": "conda-env-.mlspace-test_nto-py"
  },
  "language_info": {
   "codemirror_mode": {
    "name": "ipython",
    "version": 3
   },
   "file_extension": ".py",
   "mimetype": "text/x-python",
   "name": "python",
   "nbconvert_exporter": "python",
   "pygments_lexer": "ipython3",
   "version": "3.11.11"
  }
 },
 "nbformat": 4,
 "nbformat_minor": 5
}
